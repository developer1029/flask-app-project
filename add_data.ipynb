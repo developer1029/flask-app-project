{
 "cells": [
  {
   "cell_type": "code",
   "execution_count": null,
   "metadata": {},
   "outputs": [],
   "source": [
    "import pandas as pd\n",
    "\n",
    "name = input(\"Enter your name: \")\n",
    "number = input(\"Enter your number: \")\n",
    "email = input(\"Enter your email: \")\n",
    "\n",
    "user_data = {\n",
    "    'name': [name],\n",
    "    'number': [number],\n",
    "    'email': [email]\n",
    "}\n",
    "\n",
    "sub_df = pd.DataFrame(user_data, index=[0])\n",
    "\n",
    "existing_data = pd.read_csv('cafeLeads - leads.csv')\n",
    "\n",
    "updated_data = pd.concat([existing_data, sub_df], ignore_index=True)\n",
    "\n",
    "updated_data.to_csv('cafeLeads - leads.csv', index=False)\n",
    "\n",
    "updated_data"
   ]
  }
 ],
 "metadata": {
  "kernelspec": {
   "display_name": "env",
   "language": "python",
   "name": "python3"
  },
  "language_info": {
   "codemirror_mode": {
    "name": "ipython",
    "version": 3
   },
   "file_extension": ".py",
   "mimetype": "text/x-python",
   "name": "python",
   "nbconvert_exporter": "python",
   "pygments_lexer": "ipython3",
   "version": "3.12.0"
  },
  "orig_nbformat": 4,
  "vscode": {
   "interpreter": {
    "hash": "d6afac499cd30b58b31402266d06d701cbbf0f1330546ee700adec094e7cf7bc"
   }
  }
 },
 "nbformat": 4,
 "nbformat_minor": 2
}
